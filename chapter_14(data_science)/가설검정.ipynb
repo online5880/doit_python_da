{
 "cells": [
  {
   "cell_type": "markdown",
   "metadata": {},
   "source": [
    "# 가설 검정이란?\n",
    "## 기술 통계와 추론 통계\n",
    "### 기술 통계\n",
    "데이터를 요약해 설명하는 통계 분석 기법\n",
    "\n",
    "예) 사람들이 받는 월급을 집계해 전체 월급 평균을 구하는 것\n",
    "\n",
    "### 추론 통계\n",
    "어떤 값이 발생할 확률을 계산하는 통계 분석 기법\n",
    "\n",
    "예) 데이터에서 성별에 따라 월급에 차이가 있는 것으로 나타났을 때, 이런 차이가 우현히 발생할 확률을 계산하는 것\n",
    "\n",
    "\n",
    "> 일반적으로 통계 분석을 수행했다는 것은 추론 통계를 이용해 가설 검정을 했다는 의미이다.\n",
    "\n",
    "---\n",
    "### 통계적 가설 검정이란\n",
    "유의확율을 이용해 가설을 검정하는 방법\n",
    "\n",
    "유의확율은 실제로는 집단 간 차이가 없는데 우연히 차이가 있는 데이터가 추출될 확률"
   ]
  }
 ],
 "metadata": {
  "kernelspec": {
   "display_name": "base",
   "language": "python",
   "name": "python3"
  },
  "language_info": {
   "codemirror_mode": {
    "name": "ipython",
    "version": 3
   },
   "file_extension": ".py",
   "mimetype": "text/x-python",
   "name": "python",
   "nbconvert_exporter": "python",
   "pygments_lexer": "ipython3",
   "version": "3.12.2"
  }
 },
 "nbformat": 4,
 "nbformat_minor": 2
}
